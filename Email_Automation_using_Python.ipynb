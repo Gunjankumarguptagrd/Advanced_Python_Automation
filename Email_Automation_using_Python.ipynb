{
  "nbformat": 4,
  "nbformat_minor": 0,
  "metadata": {
    "colab": {
      "provenance": [],
      "collapsed_sections": []
    },
    "kernelspec": {
      "name": "python3",
      "display_name": "Python 3"
    },
    "language_info": {
      "name": "python"
    }
  },
  "cells": [
    {
      "cell_type": "code",
      "execution_count": null,
      "metadata": {
        "id": "pVEhIlHyjVzL"
      },
      "outputs": [],
      "source": [
        "#Email using Python\n",
        "import smtplib , ssl\n",
        "port = 465  # For SSL\n",
        "smtp_server = \"smtp.gmail.com\"\n",
        "sender_email = \"gunjankumarguptagrd@gmail.com\"  # Enter your address\n",
        "receiver_email = \"sudhanshu@ineuron.ai\"  # Enter receiver address\n",
        "#password = 'rlplfdcsoiqruagn'\n",
        "password = 'fdafasfas'\n",
        "message = \"\"\"this is my message from python code \"\"\"\n",
        "\n",
        "context = ssl.create_default_context()\n",
        "with smtplib.SMTP_SSL(smtp_server, port, context=context) as server:\n",
        "    server.login(sender_email, password)\n",
        "    server.sendmail(sender_email, receiver_email, message)\n",
        "    \n",
        "    \n",
        "    \n",
        "    \n",
        "    =====================================================================\n",
        "import smtplib\n",
        "import time\n",
        "import imaplib\n",
        "import email\n",
        "ORG_EMAIL = \"@gmail.com\" \n",
        "FROM_EMAIL = 'gunjankumarguptagrd@gmail.com'\n",
        "FROM_PWD = 'rlplfdcsoiqruagn'\n",
        "SMTP_SERVER = \"imap.gmail.com\" \n",
        "SMTP_PORT = 993\n",
        "imaplib._MAXLINE = 400000000\n",
        "\n",
        "def read_email_from_gmail():\n",
        "    try:\n",
        "        mail = imaplib.IMAP4_SSL(SMTP_SERVER)\n",
        "        mail.login(FROM_EMAIL,FROM_PWD)\n",
        "        mail.select('inbox')\n",
        "\n",
        "        data = mail.search(None, 'ALL')\n",
        "        mail_ids = data[1]\n",
        "        id_list = mail_ids[0].split()   \n",
        "        first_email_id = int(id_list[0])\n",
        "        latest_email_id = int(id_list[-1])\n",
        "\n",
        "        for i in range(latest_email_id,first_email_id, -1):\n",
        "            data = mail.fetch(str(i), '(RFC822)' )\n",
        "            for response_part in data:\n",
        "                arr = response_part[0]\n",
        "                if isinstance(arr, tuple):\n",
        "                    msg = email.message_from_string(str(arr[1],'utf-8'))\n",
        "                    email_subject = msg['subject']\n",
        "                    email_from = msg['from']\n",
        "                    print('From : ' + email_from + '\\n')\n",
        "                    print('Subject : ' + email_subject + '\\n')\n",
        "\n",
        "    except Exception as e:\n",
        "        traceback.print_exc() \n",
        "        print(str(e))\n",
        "\n",
        "read_email_from_gmail()\n"
      ]
    }
  ]
}